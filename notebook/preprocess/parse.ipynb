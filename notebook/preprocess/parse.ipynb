{
 "cells": [
  {
   "metadata": {},
   "cell_type": "markdown",
   "source": "# 문서 파싱",
   "id": "f798ad6bd45e2554"
  },
  {
   "metadata": {
    "collapsed": true,
    "ExecuteTime": {
     "end_time": "2025-07-16T06:10:00.094831Z",
     "start_time": "2025-07-16T06:08:31.043414Z"
    }
   },
   "cell_type": "code",
   "outputs": [
    {
     "name": "stdout",
     "output_type": "stream",
     "text": [
      "Recognizing layout: 100%|█████████████████████████| 6/6 [00:10<00:00,  1.71s/it]\r\n",
      "Running OCR Error Detection: 100%|████████████████| 8/8 [00:00<00:00,  8.31it/s]\r\n",
      "Detecting bboxes: 0it [00:00, ?it/s]\r\n",
      "Detecting bboxes: 100%|███████████████████████████| 1/1 [00:01<00:00,  1.17s/it]\r\n",
      "Recognizing Text: 100%|█████████████████████████| 42/42 [00:28<00:00,  1.45it/s]\r\n",
      "Recognizing tables: 100%|█████████████████████████| 5/5 [00:29<00:00,  5.97s/it]\r\n",
      "2025-07-16 15:09:59,045 [INFO] marker: Saved markdown to ../../data/parsed/ee_curriculum\r\n",
      "2025-07-16 15:09:59,045 [INFO] marker: Total time: 81.99060726165771\r\n"
     ]
    }
   ],
   "execution_count": 3,
   "source": "!marker_single ../../data/raw/ee_curriculum.pdf --output_format markdown --output_dir ../../data/parsed",
   "id": "initial_id"
  },
  {
   "metadata": {
    "ExecuteTime": {
     "end_time": "2025-07-16T06:15:20.643274Z",
     "start_time": "2025-07-16T06:14:38.522161Z"
    }
   },
   "cell_type": "code",
   "outputs": [
    {
     "name": "stdout",
     "output_type": "stream",
     "text": [
      "Recognizing layout: 100%|█████████████████████████| 5/5 [00:08<00:00,  1.76s/it]\r\n",
      "Running OCR Error Detection: 100%|████████████████| 7/7 [00:00<00:00,  7.97it/s]\r\n",
      "Detecting bboxes: 0it [00:00, ?it/s]\r\n",
      "Detecting bboxes: 0it [00:00, ?it/s]\r\n",
      "Recognizing tables: 100%|█████████████████████████| 3/3 [00:16<00:00,  5.35s/it]\r\n",
      "2025-07-16 15:15:19,773 [INFO] marker: Saved markdown to ../../data/parsed/cs_curriculum\r\n",
      "2025-07-16 15:15:19,773 [INFO] marker: Total time: 34.55536484718323\r\n"
     ]
    }
   ],
   "execution_count": 4,
   "source": "!marker_single ../../data/raw/cs_curriculum.pdf --output_format markdown --output_dir ../../data/parsed",
   "id": "139c35f349500bfc"
  },
  {
   "metadata": {},
   "cell_type": "markdown",
   "source": [
    "# 문서 파싱 결과 확인\n",
    "\n",
    "마크다운 뷰어: https://markdownlivepreview.com/"
   ],
   "id": "d29f17f6cd584dc3"
  },
  {
   "metadata": {},
   "cell_type": "markdown",
   "source": "# 이미지 파싱",
   "id": "c69d67491114be45"
  },
  {
   "metadata": {},
   "cell_type": "markdown",
   "source": "HTML 뷰어: https://html.onlineviewer.net/",
   "id": "2fec09ef2c1bd4ea"
  },
  {
   "metadata": {},
   "cell_type": "code",
   "outputs": [],
   "execution_count": null,
   "source": "",
   "id": "25c7d36aa3594800"
  }
 ],
 "metadata": {
  "kernelspec": {
   "display_name": "Python 3",
   "language": "python",
   "name": "python3"
  },
  "language_info": {
   "codemirror_mode": {
    "name": "ipython",
    "version": 2
   },
   "file_extension": ".py",
   "mimetype": "text/x-python",
   "name": "python",
   "nbconvert_exporter": "python",
   "pygments_lexer": "ipython2",
   "version": "2.7.6"
  }
 },
 "nbformat": 4,
 "nbformat_minor": 5
}
