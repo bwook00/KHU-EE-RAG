{
 "cells": [
  {
   "cell_type": "code",
   "id": "initial_id",
   "metadata": {
    "collapsed": true,
    "ExecuteTime": {
     "end_time": "2025-08-16T07:36:00.980338Z",
     "start_time": "2025-08-16T07:35:58.564042Z"
    }
   },
   "source": [
    "import re\n",
    "from typing import List\n",
    "from datetime import datetime\n",
    "import pandas as pd\n",
    "\n",
    "def chunk_and_merge_h1(md_text: str) -> List[str]:\n",
    "    \"\"\"\n",
    "    1단계: 모든 헤더(#~####)에서 청킹\n",
    "    2단계: H1이 있는 청크는 다음 청크와 합치기\n",
    "    \"\"\"\n",
    "    # 1단계: 모든 헤더 레벨에서 청킹\n",
    "    header_pattern = re.compile(r'^(#{1,4})\\s+(.+)$', re.MULTILINE)\n",
    "    matches = list(header_pattern.finditer(md_text))\n",
    "\n",
    "    if not matches:\n",
    "        return [md_text.strip()]\n",
    "\n",
    "    # 초기 청킹\n",
    "    chunks = []\n",
    "\n",
    "    # 첫 번째 헤더 이전 내용\n",
    "    first_start = matches[0].start()\n",
    "    if first_start > 0:\n",
    "        intro = md_text[:first_start].strip()\n",
    "        if intro:\n",
    "            chunks.append(intro)\n",
    "\n",
    "    # 각 헤더 구간으로 청킹\n",
    "    for i, match in enumerate(matches):\n",
    "        start = match.start()\n",
    "        end = matches[i + 1].start() if i + 1 < len(matches) else len(md_text)\n",
    "        chunk_content = md_text[start:end].strip()\n",
    "        chunks.append(chunk_content)\n",
    "\n",
    "    # 2단계: H1이 있는 청크를 다음 청크와 합치기\n",
    "    merged_chunks = []\n",
    "    i = 0\n",
    "\n",
    "    while i < len(chunks):\n",
    "        current_chunk = chunks[i]\n",
    "\n",
    "        # 현재 청크가 H1으로 시작하는지 확인\n",
    "        if re.match(r'^#\\s+', current_chunk):\n",
    "            # H1이면 다음 청크와 합치기\n",
    "            if i + 1 < len(chunks):\n",
    "                merged_chunk = current_chunk + \"\\n\\n\" + chunks[i + 1]\n",
    "                merged_chunks.append(merged_chunk)\n",
    "                i += 2  # 두 청크를 처리했으므로 2 증가\n",
    "            else:\n",
    "                # 마지막 청크가 H1이면 그대로 추가\n",
    "                merged_chunks.append(current_chunk)\n",
    "                i += 1\n",
    "        else:\n",
    "            # H1이 아니면 그대로 추가\n",
    "            merged_chunks.append(current_chunk)\n",
    "            i += 1\n",
    "\n",
    "    return merged_chunks"
   ],
   "outputs": [],
   "execution_count": 1
  },
  {
   "metadata": {
    "ExecuteTime": {
     "end_time": "2025-07-25T07:47:28.885074Z",
     "start_time": "2025-07-25T07:47:28.881930Z"
    }
   },
   "cell_type": "code",
   "source": [
    "def load_markdown_file(file_path: str) -> str:\n",
    "    with open(file_path, 'r', encoding='utf-8') as file:\n",
    "        return file.read()"
   ],
   "id": "816a26a68fdde724",
   "outputs": [],
   "execution_count": 13
  },
  {
   "metadata": {
    "ExecuteTime": {
     "end_time": "2025-07-25T07:47:29.019922Z",
     "start_time": "2025-07-25T07:47:29.016343Z"
    }
   },
   "cell_type": "code",
   "source": [
    "def load_and_chunk_markdown(file_path: str) -> List[str]:\n",
    "    md_text = load_markdown_file(file_path)\n",
    "    return chunk_and_merge_h1(md_text)"
   ],
   "id": "a0cf52fab2a221c0",
   "outputs": [],
   "execution_count": 14
  },
  {
   "metadata": {},
   "cell_type": "markdown",
   "source": "# CS 청킹",
   "id": "e7247f8b73e12929"
  },
  {
   "metadata": {
    "ExecuteTime": {
     "end_time": "2025-07-25T07:47:29.320970Z",
     "start_time": "2025-07-25T07:47:29.317752Z"
    }
   },
   "cell_type": "code",
   "source": "cs_path = \"/Users/kimbwook/PycharmProjects/KHU-EE-RAG/data/parsed/cs_curriculum/cs_curriculum.md\"",
   "id": "383981849cf88710",
   "outputs": [],
   "execution_count": 15
  },
  {
   "metadata": {
    "ExecuteTime": {
     "end_time": "2025-07-25T07:47:29.487106Z",
     "start_time": "2025-07-25T07:47:29.482659Z"
    }
   },
   "cell_type": "code",
   "source": "cs_chunks = load_and_chunk_markdown(cs_path)",
   "id": "4ce6119187e335e2",
   "outputs": [],
   "execution_count": 16
  },
  {
   "metadata": {
    "ExecuteTime": {
     "end_time": "2025-07-25T07:47:29.647406Z",
     "start_time": "2025-07-25T07:47:29.644267Z"
    }
   },
   "cell_type": "code",
   "source": "len(cs_chunks)",
   "id": "d91c415dccb4ebb5",
   "outputs": [
    {
     "data": {
      "text/plain": [
       "72"
      ]
     },
     "execution_count": 17,
     "metadata": {},
     "output_type": "execute_result"
    }
   ],
   "execution_count": 17
  },
  {
   "metadata": {},
   "cell_type": "markdown",
   "source": "### Chunks to Corpus",
   "id": "123a173f946b22c6"
  },
  {
   "metadata": {
    "ExecuteTime": {
     "end_time": "2025-07-25T07:47:29.933250Z",
     "start_time": "2025-07-25T07:47:29.930248Z"
    }
   },
   "cell_type": "code",
   "source": "cs_doc_ids = [f\"cs_chunk_{i+1}\" for i in range(len(cs_chunks))]",
   "id": "83fa47e125eae5c",
   "outputs": [],
   "execution_count": 18
  },
  {
   "metadata": {
    "ExecuteTime": {
     "end_time": "2025-07-25T07:47:30.282394Z",
     "start_time": "2025-07-25T07:47:30.278508Z"
    }
   },
   "cell_type": "code",
   "source": "cs_paths = [cs_path for _ in cs_chunks]",
   "id": "45594878a78d71ea",
   "outputs": [],
   "execution_count": 19
  },
  {
   "metadata": {
    "ExecuteTime": {
     "end_time": "2025-07-25T07:47:30.784808Z",
     "start_time": "2025-07-25T07:47:30.781519Z"
    }
   },
   "cell_type": "code",
   "source": [
    "cs_metadata = {\n",
    "    \"last_modified_datetime\": datetime.now(),\n",
    "}\n",
    "cs_metadatas = [cs_metadata for _ in cs_chunks]"
   ],
   "id": "aa64156edbf16643",
   "outputs": [],
   "execution_count": 20
  },
  {
   "metadata": {
    "ExecuteTime": {
     "end_time": "2025-07-25T07:47:32.124929Z",
     "start_time": "2025-07-25T07:47:32.122526Z"
    }
   },
   "cell_type": "code",
   "source": [
    "cs_df = pd.DataFrame({\n",
    "    \"doc_id\": cs_doc_ids,\n",
    "    \"contents\": cs_chunks,\n",
    "    \"path\": cs_paths,\n",
    "    \"metadata\": cs_metadatas\n",
    "})"
   ],
   "id": "a8a3933ed138b5f1",
   "outputs": [],
   "execution_count": 22
  },
  {
   "metadata": {
    "ExecuteTime": {
     "end_time": "2025-07-25T07:47:33.334824Z",
     "start_time": "2025-07-25T07:47:33.306231Z"
    }
   },
   "cell_type": "code",
   "source": "cs_df.to_parquet(\"../../data/corpus/cs.parquet\", index=False)",
   "id": "a3a05c82af00dd83",
   "outputs": [],
   "execution_count": 23
  },
  {
   "metadata": {},
   "cell_type": "markdown",
   "source": "# EE 청킹",
   "id": "dbaaa23287c18177"
  },
  {
   "metadata": {
    "ExecuteTime": {
     "end_time": "2025-07-25T07:47:34.084851Z",
     "start_time": "2025-07-25T07:47:34.081351Z"
    }
   },
   "cell_type": "code",
   "source": "ee_path = \"/Users/kimbwook/PycharmProjects/KHU-EE-RAG/data/parsed/ee_curriculum/ee_curriculum.md\"",
   "id": "71d384fb50d759",
   "outputs": [],
   "execution_count": 24
  },
  {
   "metadata": {
    "ExecuteTime": {
     "end_time": "2025-07-25T07:47:34.269022Z",
     "start_time": "2025-07-25T07:47:34.264650Z"
    }
   },
   "cell_type": "code",
   "source": "ee_chunks = load_and_chunk_markdown(ee_path)",
   "id": "4727a0ff4c9d38f7",
   "outputs": [],
   "execution_count": 25
  },
  {
   "metadata": {
    "ExecuteTime": {
     "end_time": "2025-07-25T07:47:34.454331Z",
     "start_time": "2025-07-25T07:47:34.450553Z"
    }
   },
   "cell_type": "code",
   "source": "len(ee_chunks)",
   "id": "48030e28c6e11cb7",
   "outputs": [
    {
     "data": {
      "text/plain": [
       "71"
      ]
     },
     "execution_count": 26,
     "metadata": {},
     "output_type": "execute_result"
    }
   ],
   "execution_count": 26
  },
  {
   "metadata": {
    "ExecuteTime": {
     "end_time": "2025-07-25T07:47:34.649778Z",
     "start_time": "2025-07-25T07:47:34.645425Z"
    }
   },
   "cell_type": "code",
   "source": "ee_chunks[0]",
   "id": "e3412240ff8b718f",
   "outputs": [
    {
     "data": {
      "text/plain": [
       "'# 전자정보대학 교육과정\\n\\n#### 대학소개\\n\\n◩ 21세기 네오르네상스 시대의 4차 산업혁명을 주도해 나갈 공학기술 인재 양성을 지향하는 전자정보대학은 1999년에 신설되 었으며, 전자공학과와 생체의공학과로 이루어져 있다. 차세대 산업혁명은 정보통신, 바이오, 나노기술 등의 다양한 첨단 기술 의 융합을 통해 초연결, 초지능, 초융합의 고도 기술사회의 도래를 예고하고 있다. 따라서 전자정보대학에서는 이와 같은 미래 기술 사회를 선도하고, 미래 가치를 창출하며, 차세대 산업혁명을 주도할 세계적 수준의 공학 인재를 양성하기 위하여 교육과 연구에 정진하고 있다. 전자정보대학에서는 학과별로 특성화된 교육 및 연구가 이루어지고 있으며, 또한 다양한 타 전공과의연계를 통한 학제간 융합 교육 및 연구가 진행되고 있다.'"
      ]
     },
     "execution_count": 27,
     "metadata": {},
     "output_type": "execute_result"
    }
   ],
   "execution_count": 27
  },
  {
   "metadata": {},
   "cell_type": "markdown",
   "source": "### Chunks to Corpus",
   "id": "7620cb8eb369773d"
  },
  {
   "metadata": {
    "ExecuteTime": {
     "end_time": "2025-07-25T07:47:35.411867Z",
     "start_time": "2025-07-25T07:47:35.408412Z"
    }
   },
   "cell_type": "code",
   "source": "ee_doc_ids = [f\"ee_chunk_{i+1}\" for i in range(len(ee_chunks))]",
   "id": "1fdd36330aae926c",
   "outputs": [],
   "execution_count": 28
  },
  {
   "metadata": {
    "ExecuteTime": {
     "end_time": "2025-07-25T07:47:35.758518Z",
     "start_time": "2025-07-25T07:47:35.755032Z"
    }
   },
   "cell_type": "code",
   "source": "ee_paths = [ee_path for _ in ee_chunks]",
   "id": "5bbdcdf0b7563bdc",
   "outputs": [],
   "execution_count": 29
  },
  {
   "metadata": {
    "ExecuteTime": {
     "end_time": "2025-07-25T07:47:36.321188Z",
     "start_time": "2025-07-25T07:47:36.318007Z"
    }
   },
   "cell_type": "code",
   "source": [
    "ee_metadata = {\n",
    "    \"last_modified_datetime\": datetime.now(),\n",
    "}\n",
    "ee_metadatas = [ee_metadata for _ in ee_chunks]"
   ],
   "id": "502e9afe41967af6",
   "outputs": [],
   "execution_count": 30
  },
  {
   "metadata": {
    "ExecuteTime": {
     "end_time": "2025-07-25T07:47:43.695089Z",
     "start_time": "2025-07-25T07:47:43.691198Z"
    }
   },
   "cell_type": "code",
   "source": [
    "ee_df = pd.DataFrame({\n",
    "    \"doc_id\": ee_doc_ids,\n",
    "    \"contents\": ee_chunks,\n",
    "    \"path\": ee_paths,\n",
    "    \"metadata\": ee_metadatas\n",
    "})"
   ],
   "id": "312609d0e52140e2",
   "outputs": [],
   "execution_count": 31
  },
  {
   "metadata": {
    "ExecuteTime": {
     "end_time": "2025-07-25T07:47:51.489680Z",
     "start_time": "2025-07-25T07:47:51.483070Z"
    }
   },
   "cell_type": "code",
   "source": "ee_df.to_parquet(\"../../data/corpus/ee.parquet\", index=False)",
   "id": "c7a536e7c30acdd9",
   "outputs": [],
   "execution_count": 32
  },
  {
   "metadata": {},
   "cell_type": "markdown",
   "source": "# Concatenate CS and EE",
   "id": "185354b5f80c0227"
  },
  {
   "metadata": {
    "ExecuteTime": {
     "end_time": "2025-07-25T07:48:33.242218Z",
     "start_time": "2025-07-25T07:48:33.235703Z"
    }
   },
   "cell_type": "code",
   "source": "pd.concat([cs_df, ee_df]).to_parquet(\"../../data/corpus/corpus.parquet\", index=False)",
   "id": "5ffe4b3188b306c8",
   "outputs": [],
   "execution_count": 33
  },
  {
   "metadata": {
    "ExecuteTime": {
     "end_time": "2025-07-25T07:49:32.056412Z",
     "start_time": "2025-07-25T07:49:32.006665Z"
    }
   },
   "cell_type": "code",
   "source": [
    "df = pd.read_parquet(\"../../data/corpus/corpus.parquet\")\n",
    "df"
   ],
   "id": "e8b075bece24c3db",
   "outputs": [
    {
     "data": {
      "text/plain": [
       "          doc_id                                           contents  \\\n",
       "0     cs_chunk_1  # 소프트웨어융합대학 교육과정\\n\\n대학소개\\n\\n- ◩ 소프트웨어융합대학은4차산업...   \n",
       "1     cs_chunk_2  #### **2. 교육목표**\\n\\n- 1)소프트웨어중심기업/학계및소프트웨어관련창업...   \n",
       "2     cs_chunk_3    #### **3. 설치학과**\\n\\n- 가. 컴퓨터공학과\\n- 나. 소프트웨어융합학과   \n",
       "3     cs_chunk_4  #### **4. 대학 졸업 요건**\\n<!DOCTYPE html>\\n<html l...   \n",
       "4     cs_chunk_5  # **5. 전공별 교육과정 편성 교과목수**\\n\\n| 학과/프로그램명  |    ...   \n",
       "..           ...                                                ...   \n",
       "138  ee_chunk_67  ####  **종합설계(전자공학)(Capstone Design)**\\n\\n이 과목에...   \n",
       "139  ee_chunk_68  ####  **실전문제연구종합설계 (X-CorpsCapstone Design)**\\...   \n",
       "140  ee_chunk_69  ####  **졸업논문(전자공학)(Graduation Thesis)**\\n\\n이 과...   \n",
       "141  ee_chunk_70  # **대학원 과목 수강 신청 절차 및 수강 가능 교과목**\\n\\n####  **대...   \n",
       "142  ee_chunk_71  ####  **전자공학과대학원 수강 권고 교과목표**\\n\\n아래 표는 해당 학부생에...   \n",
       "\n",
       "                                                  path  \\\n",
       "0    /Users/kimbwook/PycharmProjects/KHU-EE-RAG/dat...   \n",
       "1    /Users/kimbwook/PycharmProjects/KHU-EE-RAG/dat...   \n",
       "2    /Users/kimbwook/PycharmProjects/KHU-EE-RAG/dat...   \n",
       "3    /Users/kimbwook/PycharmProjects/KHU-EE-RAG/dat...   \n",
       "4    /Users/kimbwook/PycharmProjects/KHU-EE-RAG/dat...   \n",
       "..                                                 ...   \n",
       "138  /Users/kimbwook/PycharmProjects/KHU-EE-RAG/dat...   \n",
       "139  /Users/kimbwook/PycharmProjects/KHU-EE-RAG/dat...   \n",
       "140  /Users/kimbwook/PycharmProjects/KHU-EE-RAG/dat...   \n",
       "141  /Users/kimbwook/PycharmProjects/KHU-EE-RAG/dat...   \n",
       "142  /Users/kimbwook/PycharmProjects/KHU-EE-RAG/dat...   \n",
       "\n",
       "                                              metadata  \n",
       "0    {'last_modified_datetime': 2025-07-25 16:47:30...  \n",
       "1    {'last_modified_datetime': 2025-07-25 16:47:30...  \n",
       "2    {'last_modified_datetime': 2025-07-25 16:47:30...  \n",
       "3    {'last_modified_datetime': 2025-07-25 16:47:30...  \n",
       "4    {'last_modified_datetime': 2025-07-25 16:47:30...  \n",
       "..                                                 ...  \n",
       "138  {'last_modified_datetime': 2025-07-25 16:47:36...  \n",
       "139  {'last_modified_datetime': 2025-07-25 16:47:36...  \n",
       "140  {'last_modified_datetime': 2025-07-25 16:47:36...  \n",
       "141  {'last_modified_datetime': 2025-07-25 16:47:36...  \n",
       "142  {'last_modified_datetime': 2025-07-25 16:47:36...  \n",
       "\n",
       "[143 rows x 4 columns]"
      ],
      "text/html": [
       "<div>\n",
       "<style scoped>\n",
       "    .dataframe tbody tr th:only-of-type {\n",
       "        vertical-align: middle;\n",
       "    }\n",
       "\n",
       "    .dataframe tbody tr th {\n",
       "        vertical-align: top;\n",
       "    }\n",
       "\n",
       "    .dataframe thead th {\n",
       "        text-align: right;\n",
       "    }\n",
       "</style>\n",
       "<table border=\"1\" class=\"dataframe\">\n",
       "  <thead>\n",
       "    <tr style=\"text-align: right;\">\n",
       "      <th></th>\n",
       "      <th>doc_id</th>\n",
       "      <th>contents</th>\n",
       "      <th>path</th>\n",
       "      <th>metadata</th>\n",
       "    </tr>\n",
       "  </thead>\n",
       "  <tbody>\n",
       "    <tr>\n",
       "      <th>0</th>\n",
       "      <td>cs_chunk_1</td>\n",
       "      <td># 소프트웨어융합대학 교육과정\\n\\n대학소개\\n\\n- ◩ 소프트웨어융합대학은4차산업...</td>\n",
       "      <td>/Users/kimbwook/PycharmProjects/KHU-EE-RAG/dat...</td>\n",
       "      <td>{'last_modified_datetime': 2025-07-25 16:47:30...</td>\n",
       "    </tr>\n",
       "    <tr>\n",
       "      <th>1</th>\n",
       "      <td>cs_chunk_2</td>\n",
       "      <td>#### **2. 교육목표**\\n\\n- 1)소프트웨어중심기업/학계및소프트웨어관련창업...</td>\n",
       "      <td>/Users/kimbwook/PycharmProjects/KHU-EE-RAG/dat...</td>\n",
       "      <td>{'last_modified_datetime': 2025-07-25 16:47:30...</td>\n",
       "    </tr>\n",
       "    <tr>\n",
       "      <th>2</th>\n",
       "      <td>cs_chunk_3</td>\n",
       "      <td>#### **3. 설치학과**\\n\\n- 가. 컴퓨터공학과\\n- 나. 소프트웨어융합학과</td>\n",
       "      <td>/Users/kimbwook/PycharmProjects/KHU-EE-RAG/dat...</td>\n",
       "      <td>{'last_modified_datetime': 2025-07-25 16:47:30...</td>\n",
       "    </tr>\n",
       "    <tr>\n",
       "      <th>3</th>\n",
       "      <td>cs_chunk_4</td>\n",
       "      <td>#### **4. 대학 졸업 요건**\\n&lt;!DOCTYPE html&gt;\\n&lt;html l...</td>\n",
       "      <td>/Users/kimbwook/PycharmProjects/KHU-EE-RAG/dat...</td>\n",
       "      <td>{'last_modified_datetime': 2025-07-25 16:47:30...</td>\n",
       "    </tr>\n",
       "    <tr>\n",
       "      <th>4</th>\n",
       "      <td>cs_chunk_5</td>\n",
       "      <td># **5. 전공별 교육과정 편성 교과목수**\\n\\n| 학과/프로그램명  |    ...</td>\n",
       "      <td>/Users/kimbwook/PycharmProjects/KHU-EE-RAG/dat...</td>\n",
       "      <td>{'last_modified_datetime': 2025-07-25 16:47:30...</td>\n",
       "    </tr>\n",
       "    <tr>\n",
       "      <th>...</th>\n",
       "      <td>...</td>\n",
       "      <td>...</td>\n",
       "      <td>...</td>\n",
       "      <td>...</td>\n",
       "    </tr>\n",
       "    <tr>\n",
       "      <th>138</th>\n",
       "      <td>ee_chunk_67</td>\n",
       "      <td>####  **종합설계(전자공학)(Capstone Design)**\\n\\n이 과목에...</td>\n",
       "      <td>/Users/kimbwook/PycharmProjects/KHU-EE-RAG/dat...</td>\n",
       "      <td>{'last_modified_datetime': 2025-07-25 16:47:36...</td>\n",
       "    </tr>\n",
       "    <tr>\n",
       "      <th>139</th>\n",
       "      <td>ee_chunk_68</td>\n",
       "      <td>####  **실전문제연구종합설계 (X-CorpsCapstone Design)**\\...</td>\n",
       "      <td>/Users/kimbwook/PycharmProjects/KHU-EE-RAG/dat...</td>\n",
       "      <td>{'last_modified_datetime': 2025-07-25 16:47:36...</td>\n",
       "    </tr>\n",
       "    <tr>\n",
       "      <th>140</th>\n",
       "      <td>ee_chunk_69</td>\n",
       "      <td>####  **졸업논문(전자공학)(Graduation Thesis)**\\n\\n이 과...</td>\n",
       "      <td>/Users/kimbwook/PycharmProjects/KHU-EE-RAG/dat...</td>\n",
       "      <td>{'last_modified_datetime': 2025-07-25 16:47:36...</td>\n",
       "    </tr>\n",
       "    <tr>\n",
       "      <th>141</th>\n",
       "      <td>ee_chunk_70</td>\n",
       "      <td># **대학원 과목 수강 신청 절차 및 수강 가능 교과목**\\n\\n####  **대...</td>\n",
       "      <td>/Users/kimbwook/PycharmProjects/KHU-EE-RAG/dat...</td>\n",
       "      <td>{'last_modified_datetime': 2025-07-25 16:47:36...</td>\n",
       "    </tr>\n",
       "    <tr>\n",
       "      <th>142</th>\n",
       "      <td>ee_chunk_71</td>\n",
       "      <td>####  **전자공학과대학원 수강 권고 교과목표**\\n\\n아래 표는 해당 학부생에...</td>\n",
       "      <td>/Users/kimbwook/PycharmProjects/KHU-EE-RAG/dat...</td>\n",
       "      <td>{'last_modified_datetime': 2025-07-25 16:47:36...</td>\n",
       "    </tr>\n",
       "  </tbody>\n",
       "</table>\n",
       "<p>143 rows × 4 columns</p>\n",
       "</div>"
      ]
     },
     "execution_count": 37,
     "metadata": {},
     "output_type": "execute_result"
    }
   ],
   "execution_count": 37
  },
  {
   "metadata": {},
   "cell_type": "code",
   "outputs": [],
   "execution_count": null,
   "source": "",
   "id": "7fbc713dbf200ea"
  }
 ],
 "metadata": {
  "kernelspec": {
   "display_name": "Python 3",
   "language": "python",
   "name": "python3"
  },
  "language_info": {
   "codemirror_mode": {
    "name": "ipython",
    "version": 2
   },
   "file_extension": ".py",
   "mimetype": "text/x-python",
   "name": "python",
   "nbconvert_exporter": "python",
   "pygments_lexer": "ipython2",
   "version": "2.7.6"
  }
 },
 "nbformat": 4,
 "nbformat_minor": 5
}
