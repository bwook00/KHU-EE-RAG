{
 "cells": [
  {
   "metadata": {},
   "cell_type": "markdown",
   "source": [
    "# 왜 필요한가?\n",
    "\n",
    "- 아래는 전자공학과일까 컴퓨터 공학과일까?\n",
    "\n",
    "    > ① 단일전공과정을 졸업하기 위하여 전공과목은 이수과목체계에 따라서 전공기초 30학점, 전공필수 26학점을 포함하여 전공학점 84학점 이상을 이수하여야 한다.\n",
    "\n",
    "    → 어떤 과의 passage인지 알기 어렵다"
   ],
   "id": "e158b6f375fe7790"
  },
  {
   "cell_type": "code",
   "id": "initial_id",
   "metadata": {
    "collapsed": true,
    "ExecuteTime": {
     "end_time": "2025-09-18T07:55:26.778122Z",
     "start_time": "2025-09-18T07:55:26.356106Z"
    }
   },
   "source": "import pandas as pd",
   "outputs": [],
   "execution_count": 1
  },
  {
   "metadata": {
    "ExecuteTime": {
     "end_time": "2025-09-18T07:55:31.707706Z",
     "start_time": "2025-09-18T07:55:31.670460Z"
    }
   },
   "cell_type": "code",
   "source": "corpus = pd.read_parquet('./corpus.parquet')",
   "id": "3e8445121dde7393",
   "outputs": [],
   "execution_count": 3
  },
  {
   "metadata": {
    "ExecuteTime": {
     "end_time": "2025-09-18T07:57:04.758871Z",
     "start_time": "2025-09-18T07:57:04.755814Z"
    }
   },
   "cell_type": "code",
   "source": [
    "def add_file_name_corpus(row):\n",
    "    if 'ee' in row['doc_id']:\n",
    "        return f\"파일 이름: 경희대학교 전자공학과 교육과정\\n 파일 내용: {row['contents']}\"\n",
    "    elif 'cs' in row['doc_id']:\n",
    "        return f\"파일 이름: 경희대학교 컴퓨터공학과 교육과정\\n 파일 내용: {row['contents']}\"\n",
    "    else:\n",
    "        return row['contents']"
   ],
   "id": "462b84436a111024",
   "outputs": [],
   "execution_count": 5
  },
  {
   "metadata": {
    "ExecuteTime": {
     "end_time": "2025-09-18T07:57:09.666028Z",
     "start_time": "2025-09-18T07:57:09.659564Z"
    }
   },
   "cell_type": "code",
   "source": "corpus['contents'] = corpus.apply(add_file_name_corpus, axis=1)",
   "id": "55d9881f6bbaaa0b",
   "outputs": [],
   "execution_count": 6
  },
  {
   "metadata": {
    "ExecuteTime": {
     "end_time": "2025-09-18T07:58:40.329586Z",
     "start_time": "2025-09-18T07:58:40.314400Z"
    }
   },
   "cell_type": "code",
   "source": "corpus.to_parquet('./corpus_file_name.parquet')",
   "id": "925f9a2ef2699129",
   "outputs": [],
   "execution_count": 7
  },
  {
   "metadata": {},
   "cell_type": "code",
   "outputs": [],
   "execution_count": null,
   "source": "",
   "id": "8a4f640e1a416997"
  }
 ],
 "metadata": {
  "kernelspec": {
   "display_name": "Python 3",
   "language": "python",
   "name": "python3"
  },
  "language_info": {
   "codemirror_mode": {
    "name": "ipython",
    "version": 2
   },
   "file_extension": ".py",
   "mimetype": "text/x-python",
   "name": "python",
   "nbconvert_exporter": "python",
   "pygments_lexer": "ipython2",
   "version": "2.7.6"
  }
 },
 "nbformat": 4,
 "nbformat_minor": 5
}
